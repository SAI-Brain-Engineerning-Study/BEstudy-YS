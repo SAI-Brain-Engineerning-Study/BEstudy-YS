{
 "cells": [
  {
   "metadata": {
    "ExecuteTime": {
     "end_time": "2025-05-07T06:51:37.064153Z",
     "start_time": "2025-05-07T06:51:37.055234Z"
    }
   },
   "cell_type": "code",
   "source": [
    "import numpy as np\n",
    "import librosa\n",
    "import soundfile as sf\n",
    "import math\n",
    "\n",
    "def compute_c50(y, sr):\n",
    "    \"\"\"\n",
    "    y: 오디오 신호 (1차원 numpy array)\n",
    "    sr: 샘플레이트\n",
    "    \"\"\"\n",
    "    # 50ms에 해당하는 샘플 수\n",
    "    cutoff_sample = int(0.05 * sr)\n",
    "\n",
    "    # Early & Late Energy\n",
    "    early_energy = np.sum(y[:cutoff_sample] ** 2)\n",
    "    late_energy = np.sum(y[cutoff_sample:] ** 2)\n",
    "\n",
    "    if late_energy == 0:\n",
    "        return float('inf')  # 울림 없음 (완벽)\n",
    "\n",
    "    return 10 * math.log10(early_energy / late_energy)\n",
    "\n",
    "y, sr = librosa.load(\"example.wav\", sr=None)\n",
    "\n",
    "c50_value = compute_c50(y, sr)\n",
    "print(f\"C50: {c50_value:.2f} dB\")"
   ],
   "id": "f2669b57515223ba",
   "outputs": [
    {
     "name": "stdout",
     "output_type": "stream",
     "text": [
      "C50: -64.90 dB\n"
     ]
    }
   ],
   "execution_count": 3
  },
  {
   "metadata": {},
   "cell_type": "markdown",
   "source": [
    "- 음성이 지나치게 인위적이거나 정적일 때 흔히 나오는 현상으로 볼 수 있음\n",
    "- 그리고 1초 이하로 해야됌. T50은 50ms기준으로 나뉘기 때문."
   ],
   "id": "2254aa61e9fb5a1e"
  },
  {
   "metadata": {},
   "cell_type": "markdown",
   "source": "$$\\textbf{C50} = 10 \\cdot \\log_{10} \\left( \\frac{E_{\\text{early}}}{E_{\\text{late}}} \\right)$$",
   "id": "bc61562db530a7f4"
  },
  {
   "metadata": {},
   "cell_type": "markdown",
   "source": [
    "$$E_{\\text{early}} = \\sum_{t=0}^{T_{50}} x[t]^2$$\n",
    "$$E_{\\text{late}} = \\sum_{t=T_{50}+1}^{T} x[t]^2$$"
   ],
   "id": "2001de279e042649"
  },
  {
   "metadata": {},
   "cell_type": "markdown",
   "source": [
    "$$T_{50} = 0.05 \\cdot f_s$$\n",
    "\t•\tf_s: 샘플링 주파수 (Hz): 1(1000ms)초에 몇 번 측정을 50ms에 몇번 측정하는 것인가로 바뀜\n",
    "\n",
    "샘플링 주파수 f_s = 16000 Hz 라면,\n",
    "$T_{50} = 0.05 \\cdot 16000 = 800 \\text{ samples}$\n",
    "\n",
    "→ 이것은 “0~800번째 샘플까지가 50ms에 해당한다”는 뜻"
   ],
   "id": "4b7c50d07d3e4ea0"
  },
  {
   "metadata": {},
   "cell_type": "markdown",
   "source": [
    "$E_{\\text{early}}$\n",
    "\n",
    "→ 음성이 시작된 뒤 0~50ms 구간에서 나오는 에너지의 총합"
   ],
   "id": "dfcac988fb964fc5"
  },
  {
   "metadata": {},
   "cell_type": "markdown",
   "source": [
    "$E_{\\text{late}}$\n",
    "\n",
    "→ 50ms 이후~끝까지의 에너지 총합"
   ],
   "id": "c31c6e7866efad8f"
  },
  {
   "metadata": {},
   "cell_type": "code",
   "outputs": [],
   "execution_count": null,
   "source": "",
   "id": "92b60774d800f40b"
  }
 ],
 "metadata": {
  "kernelspec": {
   "display_name": "Python 3",
   "language": "python",
   "name": "python3"
  },
  "language_info": {
   "codemirror_mode": {
    "name": "ipython",
    "version": 2
   },
   "file_extension": ".py",
   "mimetype": "text/x-python",
   "name": "python",
   "nbconvert_exporter": "python",
   "pygments_lexer": "ipython2",
   "version": "2.7.6"
  }
 },
 "nbformat": 4,
 "nbformat_minor": 5
}
