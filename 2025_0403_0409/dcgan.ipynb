{
 "cells": [
  {
   "metadata": {},
   "cell_type": "markdown",
   "source": [
    "# DCGAN (Deep Convolutional GAN)\n",
    "\n",
    "## ✅ 개요\n",
    "- DCGAN은 GAN(Generative Adversarial Network)의 한 종류로,\n",
    "- Generator와 Discriminator 모두에 **합성곱 신경망(CNN)** 구조를 사용한 생성 모델\n",
    "- 이미지를 생성하는 데 최적화된 GAN 구조로, 특히 **이미지 생성, 변환, 복원** 등에서 활용\n",
    "\n",
    "---\n",
    "\n",
    "## 🔧 구성\n",
    "\n",
    "### 1. Generator (G)\n",
    "- **입력**: 랜덤 노이즈 벡터 `z` (예: 100차원)\n",
    "- **역할**: 가짜 이미지를 생성하여 Discriminator를 속이는 것\n",
    "- **구조**: ConvTranspose2d, BatchNorm2d, ReLU, Tanh 등 사용\n",
    "\n",
    "### 2. Discriminator (D)\n",
    "- **입력**: 진짜 이미지 또는 G가 만든 가짜 이미지\n",
    "- **역할**: 이미지가 진짜인지 가짜인지 식별\n",
    "- **구조**: Conv2d, BatchNorm2d, LeakyReLU, Sigmoid 등 사용\n",
    "\n",
    "---\n",
    "\n",
    "## 🧠 학습 과정\n",
    "\n",
    "1. **G**는 `z`로부터 가짜 이미지 생성: `fake = G(z)`\n",
    "2. **D**는 진짜 이미지와 가짜 이미지를 구분하려 함\n",
    "3. **D**는 진짜는 1, 가짜는 0에 가깝게 출력하도록 학습\n",
    "4. **G**는 D를 속이기 위해 D가 `G(z)`를 1이라고 믿게 하도록 학습\n",
    "\n",
    "---\n",
    "\n",
    "## 📉 손실 함수 (Binary Cross Entropy)\n",
    "$$\\mathcal{L}_{BCE} = -[y \\log(p) + (1 - y) \\log(1 - p)]$$\n",
    "\n",
    "- Generator loss:\n",
    "    - 생성한 이미지의 판별은 1로 학습\n",
    "    - 이진 크로스 엔트로피 (y=1이고 p=D(G(z)))\n",
    "$$\n",
    "\\mathcal{L}_G = -\\log(D(G(z)))\n",
    "$$\n",
    "\n",
    "\n",
    "- Discriminator loss:\n",
    "  - 실제 이미지 x는 1로, 생성한 이미지는 0으로 판별하는 학습\n",
    "  - 이진 크로스 엔트로피 (y=1이고 p=D(x) + y=0이고 p=D(G(z)))\n",
    "  - 실제 코드에서는 두 개의 BCE를 써서 2로 나눠 평균을 냄.\n",
    "$$\n",
    "\\mathcal{L}_D = -\\log(D(x)) - \\log(1 - D(G(z)))\n",
    "$$\n",
    "\n",
    "---\n",
    "\n",
    "## ✅ 특징\n",
    "\n",
    "- CNN 구조 사용 (MLP가 아닌 Conv)\n",
    "- Fully Connected Layer 없음\n",
    "- Pooling 대신 Strided Convolution 사용\n",
    "- Batch Normalization 적극 활용\n",
    "- Generator에는 마지막 활성화 함수로 `Tanh()` 사용 (출력값 [-1, 1])"
   ],
   "id": "eeb7eb776eda65ce"
  },
  {
   "metadata": {
    "ExecuteTime": {
     "end_time": "2025-04-07T17:10:30.391675Z",
     "start_time": "2025-04-07T17:10:26.241767Z"
    }
   },
   "cell_type": "code",
   "outputs": [],
   "execution_count": 7,
   "source": [
    "import torch\n",
    "import torch.nn as nn\n",
    "import torch.optim as optim\n",
    "from torchvision import datasets, transforms\n",
    "from torch.utils.data import DataLoader\n",
    "import matplotlib.pyplot as plt"
   ],
   "id": "f7b9a5dd130f4272"
  },
  {
   "metadata": {
    "ExecuteTime": {
     "end_time": "2025-04-07T17:10:22.022397Z",
     "start_time": "2025-04-07T17:10:22.019196Z"
    }
   },
   "cell_type": "code",
   "source": [
    "class Generator(nn.Module):\n",
    "    def __init__(self, z_dim=100):\n",
    "        super().__init__()\n",
    "        self.net = nn.Sequential(\n",
    "            # z는 (100)인 1차원 이지만, 연산 시 (100,1,1)로 3차원으로 계산\n",
    "            # (in_channel, out_channel, kernel, stride, padding)\n",
    "            # 업샘플링 작업\n",
    "            nn.ConvTranspose2d(z_dim, 128, 7, 1, 0),  # 7x7\n",
    "            # 각 채널별 배치정규화 (미니배치 × H × W)\n",
    "            nn.BatchNorm2d(128),\n",
    "            # True=레이어별 새 변수 안만들고 덮어쓰겠다는 뜻\n",
    "            nn.ReLU(True),\n",
    "\n",
    "            nn.ConvTranspose2d(128, 64, 4, 2, 1),     # 14x14\n",
    "            nn.BatchNorm2d(64),\n",
    "            nn.ReLU(True),\n",
    "\n",
    "            nn.ConvTranspose2d(64, 1, 4, 2, 1),       # 28x28\n",
    "            nn.Tanh() # 기존 분포 형태 유지\n",
    "        )\n",
    "\n",
    "    def forward(self, z):\n",
    "        return self.net(z.view(z.size(0), z.size(1), 1, 1))"
   ],
   "id": "2dd2c8ed0ce6dd05",
   "outputs": [],
   "execution_count": 6
  },
  {
   "metadata": {},
   "cell_type": "markdown",
   "source": [
    "## ConvTranspose2d 연산 시각화\n",
    "\n",
    "ConvTranspose2d가 어떻게 입력을 확장하여 출력 이미지를 생성하는지 보여주는 시각화\n",
    "\n",
    "![Transposed Conv2D 시각화](./transposedConv2d.png)"
   ],
   "id": "720976e5b16bf685"
  },
  {
   "metadata": {
    "ExecuteTime": {
     "end_time": "2025-04-07T17:10:36.104346Z",
     "start_time": "2025-04-07T17:10:36.101584Z"
    }
   },
   "cell_type": "code",
   "source": [
    "class Discriminator(nn.Module):\n",
    "    def __init__(self):\n",
    "        super().__init__()\n",
    "        self.net = nn.Sequential(\n",
    "            nn.Conv2d(1, 64, 4, 2, 1),  # 14x14\n",
    "            nn.LeakyReLU(0.2),\n",
    "\n",
    "            nn.Conv2d(64, 128, 4, 2, 1),  # 7x7\n",
    "            nn.BatchNorm2d(128),\n",
    "            nn.LeakyReLU(0.2),\n",
    "\n",
    "            nn.Flatten(),\n",
    "            nn.Linear(128 * 7 * 7, 1),\n",
    "            # 참, 거짓 판별\n",
    "            nn.Sigmoid()\n",
    "        )\n",
    "\n",
    "    def forward(self, x):\n",
    "        return self.net(x)"
   ],
   "id": "813101c5b0744888",
   "outputs": [],
   "execution_count": 8
  },
  {
   "metadata": {
    "ExecuteTime": {
     "end_time": "2025-04-07T17:18:12.113855Z",
     "start_time": "2025-04-07T17:18:12.111156Z"
    }
   },
   "cell_type": "code",
   "source": [
    "# ----- 하이퍼파라미터 -----\n",
    "z_dim = 100\n",
    "batch_size = 128\n",
    "epochs = 10\n",
    "lr = 0.0002\n",
    "# device = torch.device(\"cuda\" if torch.cuda.is_available() else \"cpu\")\n",
    "device = torch.device(\"mps\" if torch.backends.mps.is_available() else \"cpu\")\n",
    "print(\"사용 중인 디바이스:\", device)"
   ],
   "id": "84db833e92d48e7a",
   "outputs": [
    {
     "name": "stdout",
     "output_type": "stream",
     "text": [
      "사용 중인 디바이스: mps\n"
     ]
    }
   ],
   "execution_count": 20
  },
  {
   "metadata": {
    "ExecuteTime": {
     "end_time": "2025-04-07T17:18:13.028940Z",
     "start_time": "2025-04-07T17:18:13.010099Z"
    }
   },
   "cell_type": "code",
   "source": [
    "# ----- 데이터 로딩 -----\n",
    "transform = transforms.Compose([\n",
    "    transforms.ToTensor(),\n",
    "    transforms.Normalize((0.5,), (0.5,))  # MNIST를 [-1, 1] 범위로 정규화\n",
    "])\n",
    "dataset = datasets.MNIST(root=\"./data\", train=True, download=True, transform=transform)\n",
    "dataloader = DataLoader(dataset, batch_size=batch_size, shuffle=True)"
   ],
   "id": "8ad76a4ade31dc44",
   "outputs": [],
   "execution_count": 21
  },
  {
   "metadata": {
    "ExecuteTime": {
     "end_time": "2025-04-07T17:18:13.234111Z",
     "start_time": "2025-04-07T17:18:13.210128Z"
    }
   },
   "cell_type": "code",
   "source": [
    "# ----- 모델 초기화 -----\n",
    "G = Generator(z_dim).to(device)\n",
    "D = Discriminator().to(device)"
   ],
   "id": "dfa5aa2ae737ff93",
   "outputs": [],
   "execution_count": 22
  },
  {
   "metadata": {
    "ExecuteTime": {
     "end_time": "2025-04-07T17:18:13.405208Z",
     "start_time": "2025-04-07T17:18:13.403062Z"
    }
   },
   "cell_type": "code",
   "source": [
    "# ----- 손실 함수 & 옵티마이저 -----\n",
    "criterion = nn.BCELoss() # 이진 크로스 엔트로피\n",
    "optimizer_G = optim.Adam(G.parameters(), lr=lr, betas=(0.5, 0.999))\n",
    "optimizer_D = optim.Adam(D.parameters(), lr=lr, betas=(0.5, 0.999))\n",
    "\n",
    "# betas=(0.5, 0.999): Adam에서 사용하는 1차/2차 모멘텀 하이퍼파라미터"
   ],
   "id": "a1eb83bf7644be0",
   "outputs": [],
   "execution_count": 23
  },
  {
   "metadata": {
    "ExecuteTime": {
     "end_time": "2025-04-07T17:19:58.875571Z",
     "start_time": "2025-04-07T17:18:13.578649Z"
    }
   },
   "cell_type": "code",
   "source": [
    "# ----- 학습 루프 -----\n",
    "for epoch in range(epochs):\n",
    "    d_loss = torch.tensor(0.0)\n",
    "    g_loss = torch.tensor(0.0)\n",
    "    for real_imgs, _ in dataloader:\n",
    "        real_imgs = real_imgs.to(device)\n",
    "        batch_size = real_imgs.size(0) # size가 (128, 1, 28, 28) 이면 128을 가져옴 (0번째)\n",
    "\n",
    "        # 진짜/가짜 레이블\n",
    "        real_labels = torch.ones(batch_size, 1).to(device) # 정답이니까 1, 배치 크기 만큼 출력되므로..\n",
    "        fake_labels = torch.zeros(batch_size, 1).to(device)\n",
    "\n",
    "        # ----- Discriminator 학습 -----\n",
    "        z = torch.randn(batch_size, z_dim).to(device) # 랜덤한 노이즈\n",
    "        fake_imgs = G(z) # G network에 담아 새로 생성\n",
    "\n",
    "        real_loss = criterion(D(real_imgs), real_labels) # 실제 이미지는 1로 구별하게 학습\n",
    "        fake_loss = criterion(D(fake_imgs.detach()), fake_labels) # 생성한 이미지는 0으로 구별하게 학습\n",
    "        # detach()는 자동 미분되지 않게 해주는 것. 왜? fake_imgs만들 때 G를 사용헀는데 이거는 생성하기 위한 거고 학습하면 안되서,\n",
    "        # 그 G(z)가 학습되지 않도록 자동 미분을 끊어 주는 것.\n",
    "        d_loss = (real_loss + fake_loss) / 2\n",
    "\n",
    "        optimizer_D.zero_grad()\n",
    "        d_loss.backward()\n",
    "        optimizer_D.step()\n",
    "\n",
    "        # ----- Generator 학습 -----\n",
    "        z = torch.randn(batch_size, z_dim).to(device)\n",
    "        fake_imgs = G(z)\n",
    "        g_loss = criterion(D(fake_imgs), real_labels)  # 생성된 이미지가 진짜로 분류하게 학습\n",
    "\n",
    "        optimizer_G.zero_grad()\n",
    "        g_loss.backward()\n",
    "        optimizer_G.step()\n",
    "\n",
    "    print(f\"[{epoch+1}/{epochs}] D_loss: {d_loss.item():.4f}, G_loss: {g_loss.item():.4f}\")"
   ],
   "id": "9759a65c28659819",
   "outputs": [
    {
     "name": "stdout",
     "output_type": "stream",
     "text": [
      "[1/10] D_loss: 0.2560, G_loss: 1.8035\n",
      "[2/10] D_loss: 0.2463, G_loss: 1.6984\n",
      "[3/10] D_loss: 0.3238, G_loss: 2.1562\n",
      "[4/10] D_loss: 0.3289, G_loss: 2.7613\n",
      "[5/10] D_loss: 0.3708, G_loss: 0.5387\n",
      "[6/10] D_loss: 0.2930, G_loss: 2.3119\n",
      "[7/10] D_loss: 0.3173, G_loss: 1.4156\n",
      "[8/10] D_loss: 0.2643, G_loss: 1.6829\n",
      "[9/10] D_loss: 0.4191, G_loss: 1.8709\n",
      "[10/10] D_loss: 0.3473, G_loss: 2.1934\n"
     ]
    }
   ],
   "execution_count": 24
  },
  {
   "metadata": {
    "ExecuteTime": {
     "end_time": "2025-04-07T17:20:04.216833Z",
     "start_time": "2025-04-07T17:20:04.136893Z"
    }
   },
   "cell_type": "code",
   "source": [
    "# ----- 결과 시각화 -----\n",
    "def show_generated_images(generator, num_images=16):\n",
    "    generator.eval()\n",
    "    z = torch.randn(num_images, z_dim).to(device)\n",
    "    fake_imgs = generator(z).detach().cpu()\n",
    "\n",
    "    fake_imgs = fake_imgs * 0.5 + 0.5  # [-1,1] -> [0,1]\n",
    "    grid_size = int(num_images ** 0.5)\n",
    "    fig, axes = plt.subplots(grid_size, grid_size, figsize=(5, 5))\n",
    "\n",
    "    for i in range(grid_size):\n",
    "        for j in range(grid_size):\n",
    "            axes[i, j].imshow(fake_imgs[i * grid_size + j][0], cmap='gray')\n",
    "            axes[i, j].axis('off')\n",
    "    plt.tight_layout()\n",
    "    plt.show()\n",
    "\n",
    "show_generated_images(G)"
   ],
   "id": "2e25b3c205cf8d0a",
   "outputs": [
    {
     "data": {
      "text/plain": [
       "<Figure size 500x500 with 16 Axes>"
      ],
      "image/png": "[encoded data removed]"
     },
     "metadata": {},
     "output_type": "display_data"
    }
   ],
   "execution_count": 27
  },
  {
   "metadata": {},
   "cell_type": "code",
   "outputs": [],
   "execution_count": null,
   "source": "",
   "id": "810fc46e8825c267"
  }
 ],
 "metadata": {
  "kernelspec": {
   "display_name": "Python 3",
   "language": "python",
   "name": "python3"
  },
  "language_info": {
   "codemirror_mode": {
    "name": "ipython",
    "version": 2
   },
   "file_extension": ".py",
   "mimetype": "text/x-python",
   "name": "python",
   "nbconvert_exporter": "python",
   "pygments_lexer": "ipython2",
   "version": "2.7.6"
  }
 },
 "nbformat": 4,
 "nbformat_minor": 5
}
